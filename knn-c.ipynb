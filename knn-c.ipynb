{
 "cells": [
  {
   "cell_type": "markdown",
   "metadata": {},
   "source": [
    "# Predict geothermal heat flux: KNN regression with Continent Level Cross Validation"
   ]
  },
  {
   "cell_type": "markdown",
   "metadata": {},
   "source": [
    "References:\n",
    "* http://rasbt.github.io/mlxtend/user_guide/feature_selection/SequentialFeatureSelector/\n",
    "* https://scikit-learn.org/stable/modules/generated/sklearn.neighbors.KNeighborsClassifier.html\n",
    "* https://github.com/amirkdv/ghf-greenland-gbrt\n",
    "\n",
    "Install mlxtend to use SequentialFeatureSelector (pip install mlxtend)."
   ]
  },
  {
   "cell_type": "code",
   "execution_count": 1,
   "metadata": {},
   "outputs": [],
   "source": [
    "import numpy as np\n",
    "import pandas as pd\n",
    "from sklearn.neighbors import KNeighborsRegressor\n",
    "from sklearn import preprocessing\n",
    "from mlxtend.feature_selection import SequentialFeatureSelector as SFS\n",
    "import math\n",
    "from matplotlib import pyplot as plt\n",
    "from sklearn.model_selection import GroupKFold\n",
    "from sklearn.model_selection import ParameterGrid\n",
    "from tqdm.notebook import tqdm\n",
    "from joblib import dump, load\n",
    "from project import plt_ant_feat"
   ]
  },
  {
   "cell_type": "code",
   "execution_count": 2,
   "metadata": {},
   "outputs": [],
   "source": [
    "def find_continent(df):\n",
    "    cont = []\n",
    "    for r in df.itertuples():\n",
    "        if (r.lat > 0)  & (r.lon < -25): # NA\n",
    "            cont.append(0)\n",
    "        elif (r.lat > 30)  & (75 > r.lon) & (r.lon > -25): #EU\n",
    "            cont.append(1)\n",
    "        else:\n",
    "            cont.append(2)\n",
    "    return cont"
   ]
  },
  {
   "cell_type": "markdown",
   "metadata": {},
   "source": [
    "Load the data."
   ]
  },
  {
   "cell_type": "code",
   "execution_count": 3,
   "metadata": {},
   "outputs": [
    {
     "name": "stdout",
     "output_type": "stream",
     "text": [
      "train shape: (3227, 21)\n",
      "test shape: (807, 21)\n"
     ]
    }
   ],
   "source": [
    "X_labels = [\"thickness_upper_crust\",\n",
    "            \"thickness_middle_crust\",\n",
    "            \"upper_mantle_density_anomaly\",\n",
    "            \"d_2_ridge\",\n",
    "            \"d_2_trench\",\n",
    "            \"d_2_trans_ridge\",\n",
    "            \"d_2_volcano\",\n",
    "            \"d_2_hotspot\",\n",
    "            \"thickness_crust\",\n",
    "            \"d_2_young_rift\",\n",
    "#             \"lon\",\n",
    "#             \"lat\".\n",
    "#             \"GHF\",\n",
    "            \"upper_mantle_vel_structure\",\n",
    "            \"age\",\n",
    "            \"magnetic_anomaly\",\n",
    "            \"depth_to_moho\",\n",
    "            \"lithos_asthenos_bdry\",\n",
    "            \"bougeur_gravity_anomaly\",\n",
    "            \"topography\"\n",
    "]\n",
    "\n",
    "y_lable = 'GHF'\n",
    "\n",
    "scaler = preprocessing.MinMaxScaler()\n",
    "\n",
    "n_scale_labels = ['lat', 'lon', 'GHF']\n",
    "\n",
    "# Load data\n",
    "data_train = pd.read_csv('data/R17_global_train.csv')\n",
    "train_llg = data_train[n_scale_labels]\n",
    "data_train = data_train.drop(columns=n_scale_labels)\n",
    "data_train[:] = scaler.fit_transform(data_train)\n",
    "data_train[n_scale_labels] = train_llg\n",
    "data_train['continent'] = find_continent(data_train)\n",
    "train = data_train\n",
    "\n",
    "data_test = pd.read_csv('data/R17_global_test.csv')\n",
    "test_llg = data_test[n_scale_labels]\n",
    "data_test = data_test.drop(columns=n_scale_labels)\n",
    "data_test[:] = scaler.transform(data_test)\n",
    "data_test[n_scale_labels] = test_llg\n",
    "data_test['continent'] = find_continent(data_test)\n",
    "test = data_test\n",
    "\n",
    "\n",
    "\n",
    "print('train shape:', train.shape)\n",
    "print('test shape:', test.shape)"
   ]
  },
  {
   "cell_type": "code",
   "execution_count": 18,
   "metadata": {},
   "outputs": [
    {
     "data": {
      "text/plain": [
       "['knn_scaler.joblib']"
      ]
     },
     "execution_count": 18,
     "metadata": {},
     "output_type": "execute_result"
    }
   ],
   "source": [
    "dump(scaler, 'models/knn_scaler.joblib')"
   ]
  },
  {
   "cell_type": "code",
   "execution_count": 4,
   "metadata": {},
   "outputs": [
    {
     "data": {
      "image/png": "[encoded data removed]",
      "text/plain": [
       "<Figure size 720x576 with 1 Axes>"
      ]
     },
     "metadata": {
      "needs_background": "light"
     },
     "output_type": "display_data"
    }
   ],
   "source": [
    "na_train = train[train['continent'] == 0]\n",
    "na_test = test[test['continent'] == 0]\n",
    "\n",
    "fig, ax = plt.subplots(figsize=(10, 8))\n",
    "ax.scatter(na_train['lon'], na_train['lat'], s=1, c='b', label='Train')\n",
    "ax.scatter(na_test['lon'], na_test['lat'], s=1, c='r', label='Test')\n",
    "ax.legend()\n",
    "plt.show()"
   ]
  },
  {
   "cell_type": "code",
   "execution_count": 5,
   "metadata": {},
   "outputs": [
    {
     "data": {
      "image/png": "[encoded data removed]",
      "text/plain": [
       "<Figure size 720x576 with 1 Axes>"
      ]
     },
     "metadata": {
      "needs_background": "light"
     },
     "output_type": "display_data"
    }
   ],
   "source": [
    "eu_train = train[train['continent'] == 1]\n",
    "eu_test = test[test['continent'] == 1]\n",
    "\n",
    "fig, ax = plt.subplots(figsize=(10, 8))\n",
    "ax.scatter(eu_train['lon'], eu_train['lat'], s=1, c='b', label='Train')\n",
    "ax.scatter(eu_test['lon'], eu_test['lat'], s=1, c='r', label='Test')\n",
    "ax.legend()\n",
    "plt.show()"
   ]
  },
  {
   "cell_type": "code",
   "execution_count": 6,
   "metadata": {},
   "outputs": [],
   "source": [
    "eu_na_train = train[train['continent'] <= 1]\n",
    "eu_na_test = test[test['continent'] <= 1]\n",
    "\n",
    "X_eu_na_train = eu_na_train[X_labels]\n",
    "y_eu_na_train = eu_na_train[y_lable]\n",
    "\n",
    "X_eu_na_test = eu_na_test[X_labels]\n",
    "y_eu_na_test = eu_na_test[y_lable]"
   ]
  },
  {
   "cell_type": "code",
   "execution_count": 9,
   "metadata": {},
   "outputs": [
    {
     "data": {
      "application/vnd.jupyter.widget-view+json": {
       "model_id": "df1edd4e8d8a4f60bcac1219a79da7ec",
       "version_major": 2,
       "version_minor": 0
      },
      "text/plain": [
       "HBox(children=(FloatProgress(value=0.0, max=18.0), HTML(value='')))"
      ]
     },
     "metadata": {},
     "output_type": "display_data"
    },
    {
     "name": "stdout",
     "output_type": "stream",
     "text": [
      "\n"
     ]
    }
   ],
   "source": [
    "research = False\n",
    "\n",
    "if research:\n",
    "    gkf = GroupKFold(n_splits=2)\n",
    "    param_grid = {'n_neighbors': range(20, 60),\n",
    "       'weights': ['uniform', 'distance'],\n",
    "       'metric': ['euclidean', 'manhattan', 'chebyshev']}\n",
    "\n",
    "    poss_params = ParameterGrid(param_grid)\n",
    "\n",
    "    def find_sfs(params):\n",
    "        knn = KNeighborsRegressor(n_neighbors=params['n_neighbors'], metric=params['metric'], weights=params['weights'])\n",
    "\n",
    "        sfs = SFS(estimator=knn, \n",
    "                   k_features='best',\n",
    "                   forward=False, \n",
    "                   floating=True,\n",
    "                   cv=gkf)\n",
    "\n",
    "        sfs.fit(X_eu_na_train, y_eu_na_train, groups=list(eu_na_train['continent']))\n",
    "\n",
    "        return sfs\n",
    "\n",
    "    best_score = None\n",
    "    best_sfs = None\n",
    "\n",
    "    for params in tqdm(poss_params):\n",
    "        sfs = find_sfs(params)\n",
    "\n",
    "        if best_score is None or sfs.k_score_ > best_score:\n",
    "            best_score = sfs.k_score_\n",
    "            best_sfs = sfs\n",
    "else:\n",
    "    best_sfs = load('best_sfs.joblib')"
   ]
  },
  {
   "cell_type": "code",
   "execution_count": 10,
   "metadata": {},
   "outputs": [
    {
     "name": "stdout",
     "output_type": "stream",
     "text": [
      "SequentialFeatureSelector(clone_estimator=True, cv=GroupKFold(n_splits=2),\n",
      "                          estimator=KNeighborsRegressor(algorithm='auto',\n",
      "                                                        leaf_size=30,\n",
      "                                                        metric='manhattan',\n",
      "                                                        metric_params=None,\n",
      "                                                        n_jobs=None,\n",
      "                                                        n_neighbors=45, p=2,\n",
      "                                                        weights='uniform'),\n",
      "                          floating=True, forward=False, k_features='best',\n",
      "                          n_jobs=1, pre_dispatch='2*n_jobs', scoring=None,\n",
      "                          verbose=0)\n",
      "('thickness_upper_crust', 'upper_mantle_density_anomaly', 'd_2_trench', 'd_2_trans_ridge', 'd_2_volcano', 'd_2_hotspot', 'thickness_crust', 'magnetic_anomaly')\n",
      "0.46008617484038045\n"
     ]
    }
   ],
   "source": [
    "print(best_sfs)\n",
    "print(best_sfs.k_feature_names_)\n",
    "print(best_sfs.k_score_)"
   ]
  },
  {
   "cell_type": "markdown",
   "metadata": {},
   "source": [
    "Fit a KNN model using the best hyperparameter values."
   ]
  },
  {
   "cell_type": "code",
   "execution_count": 11,
   "metadata": {},
   "outputs": [
    {
     "data": {
      "text/html": [
       "<div>\n",
       "<style scoped>\n",
       "    .dataframe tbody tr th:only-of-type {\n",
       "        vertical-align: middle;\n",
       "    }\n",
       "\n",
       "    .dataframe tbody tr th {\n",
       "        vertical-align: top;\n",
       "    }\n",
       "\n",
       "    .dataframe thead th {\n",
       "        text-align: right;\n",
       "    }\n",
       "</style>\n",
       "<table border=\"1\" class=\"dataframe\">\n",
       "  <thead>\n",
       "    <tr style=\"text-align: right;\">\n",
       "      <th></th>\n",
       "      <th>thickness_upper_crust</th>\n",
       "      <th>upper_mantle_density_anomaly</th>\n",
       "      <th>d_2_trench</th>\n",
       "      <th>d_2_trans_ridge</th>\n",
       "      <th>d_2_volcano</th>\n",
       "      <th>d_2_hotspot</th>\n",
       "      <th>thickness_crust</th>\n",
       "      <th>magnetic_anomaly</th>\n",
       "    </tr>\n",
       "  </thead>\n",
       "  <tbody>\n",
       "    <tr>\n",
       "      <th>0</th>\n",
       "      <td>0.704457</td>\n",
       "      <td>0.665041</td>\n",
       "      <td>0.214667</td>\n",
       "      <td>0.391622</td>\n",
       "      <td>0.299071</td>\n",
       "      <td>0.165398</td>\n",
       "      <td>0.451038</td>\n",
       "      <td>0.715267</td>\n",
       "    </tr>\n",
       "    <tr>\n",
       "      <th>2</th>\n",
       "      <td>0.531938</td>\n",
       "      <td>0.660705</td>\n",
       "      <td>0.051730</td>\n",
       "      <td>0.054583</td>\n",
       "      <td>0.175289</td>\n",
       "      <td>0.151582</td>\n",
       "      <td>0.489316</td>\n",
       "      <td>0.728896</td>\n",
       "    </tr>\n",
       "    <tr>\n",
       "      <th>3</th>\n",
       "      <td>0.408865</td>\n",
       "      <td>0.666125</td>\n",
       "      <td>0.293485</td>\n",
       "      <td>0.337368</td>\n",
       "      <td>0.810625</td>\n",
       "      <td>0.209069</td>\n",
       "      <td>0.428132</td>\n",
       "      <td>0.726109</td>\n",
       "    </tr>\n",
       "    <tr>\n",
       "      <th>4</th>\n",
       "      <td>0.654913</td>\n",
       "      <td>0.640108</td>\n",
       "      <td>0.493060</td>\n",
       "      <td>0.505118</td>\n",
       "      <td>0.506434</td>\n",
       "      <td>0.209691</td>\n",
       "      <td>0.471022</td>\n",
       "      <td>0.726265</td>\n",
       "    </tr>\n",
       "    <tr>\n",
       "      <th>5</th>\n",
       "      <td>0.704260</td>\n",
       "      <td>0.714905</td>\n",
       "      <td>0.485799</td>\n",
       "      <td>0.538254</td>\n",
       "      <td>0.696557</td>\n",
       "      <td>0.242099</td>\n",
       "      <td>0.534973</td>\n",
       "      <td>0.756224</td>\n",
       "    </tr>\n",
       "    <tr>\n",
       "      <th>...</th>\n",
       "      <td>...</td>\n",
       "      <td>...</td>\n",
       "      <td>...</td>\n",
       "      <td>...</td>\n",
       "      <td>...</td>\n",
       "      <td>...</td>\n",
       "      <td>...</td>\n",
       "      <td>...</td>\n",
       "    </tr>\n",
       "    <tr>\n",
       "      <th>3221</th>\n",
       "      <td>0.704408</td>\n",
       "      <td>0.591870</td>\n",
       "      <td>0.314686</td>\n",
       "      <td>0.323732</td>\n",
       "      <td>0.390948</td>\n",
       "      <td>0.079264</td>\n",
       "      <td>0.420446</td>\n",
       "      <td>0.733129</td>\n",
       "    </tr>\n",
       "    <tr>\n",
       "      <th>3222</th>\n",
       "      <td>0.408717</td>\n",
       "      <td>0.431978</td>\n",
       "      <td>0.397083</td>\n",
       "      <td>0.396337</td>\n",
       "      <td>0.456440</td>\n",
       "      <td>0.103720</td>\n",
       "      <td>0.353113</td>\n",
       "      <td>0.716369</td>\n",
       "    </tr>\n",
       "    <tr>\n",
       "      <th>3223</th>\n",
       "      <td>0.261019</td>\n",
       "      <td>0.695935</td>\n",
       "      <td>0.266979</td>\n",
       "      <td>0.305238</td>\n",
       "      <td>0.408531</td>\n",
       "      <td>0.119546</td>\n",
       "      <td>0.449347</td>\n",
       "      <td>0.713808</td>\n",
       "    </tr>\n",
       "    <tr>\n",
       "      <th>3225</th>\n",
       "      <td>0.679685</td>\n",
       "      <td>0.642818</td>\n",
       "      <td>0.308573</td>\n",
       "      <td>0.423534</td>\n",
       "      <td>0.477677</td>\n",
       "      <td>0.156591</td>\n",
       "      <td>0.437663</td>\n",
       "      <td>0.761759</td>\n",
       "    </tr>\n",
       "    <tr>\n",
       "      <th>3226</th>\n",
       "      <td>0.852056</td>\n",
       "      <td>0.761518</td>\n",
       "      <td>0.199144</td>\n",
       "      <td>0.211722</td>\n",
       "      <td>0.235332</td>\n",
       "      <td>0.044472</td>\n",
       "      <td>0.486241</td>\n",
       "      <td>0.722610</td>\n",
       "    </tr>\n",
       "  </tbody>\n",
       "</table>\n",
       "<p>1949 rows × 8 columns</p>\n",
       "</div>"
      ],
      "text/plain": [
       "      thickness_upper_crust  upper_mantle_density_anomaly  d_2_trench  \\\n",
       "0                  0.704457                      0.665041    0.214667   \n",
       "2                  0.531938                      0.660705    0.051730   \n",
       "3                  0.408865                      0.666125    0.293485   \n",
       "4                  0.654913                      0.640108    0.493060   \n",
       "5                  0.704260                      0.714905    0.485799   \n",
       "...                     ...                           ...         ...   \n",
       "3221               0.704408                      0.591870    0.314686   \n",
       "3222               0.408717                      0.431978    0.397083   \n",
       "3223               0.261019                      0.695935    0.266979   \n",
       "3225               0.679685                      0.642818    0.308573   \n",
       "3226               0.852056                      0.761518    0.199144   \n",
       "\n",
       "      d_2_trans_ridge  d_2_volcano  d_2_hotspot  thickness_crust  \\\n",
       "0            0.391622     0.299071     0.165398         0.451038   \n",
       "2            0.054583     0.175289     0.151582         0.489316   \n",
       "3            0.337368     0.810625     0.209069         0.428132   \n",
       "4            0.505118     0.506434     0.209691         0.471022   \n",
       "5            0.538254     0.696557     0.242099         0.534973   \n",
       "...               ...          ...          ...              ...   \n",
       "3221         0.323732     0.390948     0.079264         0.420446   \n",
       "3222         0.396337     0.456440     0.103720         0.353113   \n",
       "3223         0.305238     0.408531     0.119546         0.449347   \n",
       "3225         0.423534     0.477677     0.156591         0.437663   \n",
       "3226         0.211722     0.235332     0.044472         0.486241   \n",
       "\n",
       "      magnetic_anomaly  \n",
       "0             0.715267  \n",
       "2             0.728896  \n",
       "3             0.726109  \n",
       "4             0.726265  \n",
       "5             0.756224  \n",
       "...                ...  \n",
       "3221          0.733129  \n",
       "3222          0.716369  \n",
       "3223          0.713808  \n",
       "3225          0.761759  \n",
       "3226          0.722610  \n",
       "\n",
       "[1949 rows x 8 columns]"
      ]
     },
     "execution_count": 11,
     "metadata": {},
     "output_type": "execute_result"
    }
   ],
   "source": [
    "best_features = best_sfs.k_feature_names_\n",
    "X_eu_na_train[list(best_features)]"
   ]
  },
  {
   "cell_type": "code",
   "execution_count": 12,
   "metadata": {},
   "outputs": [],
   "source": [
    "resave = False\n",
    "if resave: dump(best_sfs, 'model/best_sfs_scale.joblib')"
   ]
  },
  {
   "cell_type": "code",
   "execution_count": 13,
   "metadata": {},
   "outputs": [
    {
     "name": "stdout",
     "output_type": "stream",
     "text": [
      "KNeighborsRegressor(algorithm='auto', leaf_size=30, metric='manhattan',\n",
      "                    metric_params=None, n_jobs=None, n_neighbors=45, p=2,\n",
      "                    weights='uniform')\n",
      "R^2: 0.595400146997452\n",
      "RMSE: 0.18636822414165782\n"
     ]
    }
   ],
   "source": [
    "# Create subsets of train/test data using best features from SFS\n",
    "knn = best_sfs.estimator\n",
    "best_features = best_sfs.k_feature_names_\n",
    "X_train_selected = X_eu_na_train[list(best_features)]\n",
    "X_test_selected = X_eu_na_test[list(best_features)]\n",
    "\n",
    "print(knn)\n",
    "knn.fit(X_train_selected, y_eu_na_train)\n",
    "print('R^2:', knn.score(X_test_selected, y_eu_na_test))\n",
    "pred = knn.predict(X_test_selected)\n",
    "rmse = (1 / np.average(y_eu_na_test)) * math.sqrt(np.average((y_eu_na_test - pred)**2))\n",
    "print ('RMSE:', rmse)"
   ]
  },
  {
   "cell_type": "code",
   "execution_count": 18,
   "metadata": {},
   "outputs": [],
   "source": [
    "ant_data = pd.read_csv('data/ant_features.csv')\n",
    "ant_data = ant_data.drop(columns=['lat', 'lon'])\n",
    "ant_data[:] = scaler.transform(ant_data)\n",
    "X_ant = ant_data[list(best_features)]"
   ]
  },
  {
   "cell_type": "code",
   "execution_count": 19,
   "metadata": {},
   "outputs": [
    {
     "data": {
      "image/png": "[encoded data removed]",
      "text/plain": [
       "<Figure size 432x288 with 2 Axes>"
      ]
     },
     "metadata": {
      "needs_background": "light"
     },
     "output_type": "display_data"
    }
   ],
   "source": [
    "pred_ant = knn.predict(X_ant)\n",
    "plt_ant_feat(pred_ant)"
   ]
  },
  {
   "cell_type": "code",
   "execution_count": null,
   "metadata": {},
   "outputs": [],
   "source": []
  }
 ],
 "metadata": {
  "kernelspec": {
   "display_name": "Python 3",
   "language": "python",
   "name": "python3"
  },
  "language_info": {
   "codemirror_mode": {
    "name": "ipython",
    "version": 3
   },
   "file_extension": ".py",
   "mimetype": "text/x-python",
   "name": "python",
   "nbconvert_exporter": "python",
   "pygments_lexer": "ipython3",
   "version": "3.7.3"
  }
 },
 "nbformat": 4,
 "nbformat_minor": 4
}
